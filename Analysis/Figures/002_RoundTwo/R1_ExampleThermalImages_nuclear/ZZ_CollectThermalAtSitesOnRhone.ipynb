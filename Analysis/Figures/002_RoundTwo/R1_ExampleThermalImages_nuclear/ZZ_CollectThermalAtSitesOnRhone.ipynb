{
 "cells": [
  {
   "cell_type": "code",
   "execution_count": 2,
   "id": "ae0d99ce-9520-4b32-a7db-88b3bc3ebcce",
   "metadata": {},
   "outputs": [
    {
     "data": {
      "text/html": [
       "\n",
       "            <style>\n",
       "                .geemap-dark {\n",
       "                    --jp-widgets-color: white;\n",
       "                    --jp-widgets-label-color: white;\n",
       "                    --jp-ui-font-color1: white;\n",
       "                    --jp-layout-color2: #454545;\n",
       "                    background-color: #383838;\n",
       "                }\n",
       "                    \n",
       "                .geemap-dark .jupyter-button {\n",
       "                    --jp-layout-color3: #383838;\n",
       "                }\n",
       "                \n",
       "                .geemap-colab {\n",
       "                    background-color: var(--colab-primary-surface-color, white);\n",
       "                }\n",
       "                    \n",
       "                .geemap-colab .jupyter-button {\n",
       "                    --jp-layout-color3: var(--colab-primary-surface-color, white);\n",
       "                }\n",
       "            </style>\n",
       "            "
      ],
      "text/plain": [
       "<IPython.core.display.HTML object>"
      ]
     },
     "metadata": {},
     "output_type": "display_data"
    }
   ],
   "source": [
    "%matplotlib inline\n",
    "import ee \n",
    "import geemap\n",
    "\n",
    "import matplotlib.pyplot as plt\n",
    "\n",
    "## will need to import the gee functions \n",
    "import os \n",
    "os.chdir(r'D:\\RT_temperaturePrivate\\Analysis\\RTT_Pycharm\\TemperatureFuncs')\n",
    "from LandsatGEE import extractLS8, getLSIC, getTemperature\n",
    "import GEE_GenericFuncs\n",
    "from AsterGEE import extractAster\n",
    "\n",
    "pp = ee.FeatureCollection(\"WRI/GPPD/power_plants\") \n"
   ]
  },
  {
   "cell_type": "code",
   "execution_count": 3,
   "id": "80316d2e-137d-4d61-9fc6-5285b00645b3",
   "metadata": {},
   "outputs": [
    {
     "data": {
      "text/html": [
       "\n",
       "            <style>\n",
       "                .geemap-dark {\n",
       "                    --jp-widgets-color: white;\n",
       "                    --jp-widgets-label-color: white;\n",
       "                    --jp-ui-font-color1: white;\n",
       "                    --jp-layout-color2: #454545;\n",
       "                    background-color: #383838;\n",
       "                }\n",
       "                    \n",
       "                .geemap-dark .jupyter-button {\n",
       "                    --jp-layout-color3: #383838;\n",
       "                }\n",
       "                \n",
       "                .geemap-colab {\n",
       "                    background-color: var(--colab-primary-surface-color, white);\n",
       "                }\n",
       "                    \n",
       "                .geemap-colab .jupyter-button {\n",
       "                    --jp-layout-color3: var(--colab-primary-surface-color, white);\n",
       "                }\n",
       "            </style>\n",
       "            "
      ],
      "text/plain": [
       "<IPython.core.display.HTML object>"
      ]
     },
     "metadata": {},
     "output_type": "display_data"
    }
   ],
   "source": [
    "ee.Initialize()"
   ]
  },
  {
   "cell_type": "markdown",
   "id": "66ed6da5-f962-44ba-a72b-c558126b3267",
   "metadata": {},
   "source": [
    "# 6 stage Nuclear PowerPlant Temperatures"
   ]
  },
  {
   "cell_type": "code",
   "execution_count": null,
   "id": "12bec782-dbbf-41f8-95b0-62d63adb4606",
   "metadata": {},
   "outputs": [],
   "source": [
    "# Date list\n",
    "JanS = \n",
    "MarchS = \n",
    "MayS = \n",
    "JulyS = \n",
    "SeptS = \n",
    "NovS ="
   ]
  },
  {
   "cell_type": "markdown",
   "id": "ac082699-163c-4a64-b083-9139997c038d",
   "metadata": {},
   "source": [
    "# Temperature profile at different sites:\n",
    "## tasks:\n",
    "<li>Nuclear </li>\n",
    "<li>Reservoir in Summer</li>"
   ]
  },
  {
   "cell_type": "markdown",
   "id": "b4547529-1178-47c6-bcdc-52b2cd7aef8c",
   "metadata": {},
   "source": [
    "## Nuclear"
   ]
  },
  {
   "cell_type": "code",
   "execution_count": 4,
   "id": "b8c30249-fbda-4cb7-ad6d-a7fecef8e162",
   "metadata": {},
   "outputs": [
    {
     "data": {
      "text/html": [
       "\n",
       "            <style>\n",
       "                .geemap-dark {\n",
       "                    --jp-widgets-color: white;\n",
       "                    --jp-widgets-label-color: white;\n",
       "                    --jp-ui-font-color1: white;\n",
       "                    --jp-layout-color2: #454545;\n",
       "                    background-color: #383838;\n",
       "                }\n",
       "                    \n",
       "                .geemap-dark .jupyter-button {\n",
       "                    --jp-layout-color3: #383838;\n",
       "                }\n",
       "                \n",
       "                .geemap-colab {\n",
       "                    background-color: var(--colab-primary-surface-color, white);\n",
       "                }\n",
       "                    \n",
       "                .geemap-colab .jupyter-button {\n",
       "                    --jp-layout-color3: var(--colab-primary-surface-color, white);\n",
       "                }\n",
       "            </style>\n",
       "            "
      ],
      "text/plain": [
       "<IPython.core.display.HTML object>"
      ]
     },
     "metadata": {},
     "output_type": "display_data"
    }
   ],
   "source": [
    "# import nuclear geometry \n",
    "Ngeometry = ee.FeatureCollection('projects/ee-samuelvalman/assets/P3RT/Rhone')\n",
    "geometry = Ngeometry.geometry()\n"
   ]
  },
  {
   "cell_type": "code",
   "execution_count": 5,
   "id": "6e40b415-505b-4747-8d3b-bc6b5c4f686d",
   "metadata": {},
   "outputs": [
    {
     "data": {
      "text/html": [
       "\n",
       "            <style>\n",
       "                .geemap-dark {\n",
       "                    --jp-widgets-color: white;\n",
       "                    --jp-widgets-label-color: white;\n",
       "                    --jp-ui-font-color1: white;\n",
       "                    --jp-layout-color2: #454545;\n",
       "                    background-color: #383838;\n",
       "                }\n",
       "                    \n",
       "                .geemap-dark .jupyter-button {\n",
       "                    --jp-layout-color3: #383838;\n",
       "                }\n",
       "                \n",
       "                .geemap-colab {\n",
       "                    background-color: var(--colab-primary-surface-color, white);\n",
       "                }\n",
       "                    \n",
       "                .geemap-colab .jupyter-button {\n",
       "                    --jp-layout-color3: var(--colab-primary-surface-color, white);\n",
       "                }\n",
       "            </style>\n",
       "            "
      ],
      "text/plain": [
       "<IPython.core.display.HTML object>"
      ]
     },
     "metadata": {},
     "output_type": "display_data"
    },
    {
     "name": "stdout",
     "output_type": "stream",
     "text": [
      "2\n"
     ]
    }
   ],
   "source": [
    "#Var for inclusion\n",
    "sat = 'L8'\n",
    "date_start = '2024-06-01'\n",
    "date_end = '2024-08-01'\n",
    "emissivity = 0.991\n",
    "maxCloud = 20\n",
    "\n",
    "#extractLS8\n",
    "ic =  extractLS8(geometry, \n",
    "               task='extractValues_atmosphericallyCorrected', \n",
    "                     points=None,\n",
    "                     maxCloud=20, \n",
    "                     date_start=date_start, \n",
    "                     date_end=date_end,\n",
    "                     emissivity=0.991, \n",
    "                     )\n",
    "\n",
    "print(ic.size().getInfo())\n",
    "im = ic.select('wst').first()"
   ]
  },
  {
   "cell_type": "code",
   "execution_count": 7,
   "id": "cc3264bf-6630-4769-a9aa-7baa3e0c2490",
   "metadata": {},
   "outputs": [
    {
     "data": {
      "text/html": [
       "\n",
       "            <style>\n",
       "                .geemap-dark {\n",
       "                    --jp-widgets-color: white;\n",
       "                    --jp-widgets-label-color: white;\n",
       "                    --jp-ui-font-color1: white;\n",
       "                    --jp-layout-color2: #454545;\n",
       "                    background-color: #383838;\n",
       "                }\n",
       "                    \n",
       "                .geemap-dark .jupyter-button {\n",
       "                    --jp-layout-color3: #383838;\n",
       "                }\n",
       "                \n",
       "                .geemap-colab {\n",
       "                    background-color: var(--colab-primary-surface-color, white);\n",
       "                }\n",
       "                    \n",
       "                .geemap-colab .jupyter-button {\n",
       "                    --jp-layout-color3: var(--colab-primary-surface-color, white);\n",
       "                }\n",
       "            </style>\n",
       "            "
      ],
      "text/plain": [
       "<IPython.core.display.HTML object>"
      ]
     },
     "metadata": {},
     "output_type": "display_data"
    }
   ],
   "source": [
    "visParams = visParams = {\n",
    "    'bands': ['wst'],  # Specify the band to visualize\n",
    "    'min': 24,          # Minimum value for the visualization\n",
    "    'max': 28,         # Maximum value for the visualization\n",
    "    'palette': ['blue', 'blue', 'blue', 'cyan', 'green', 'yellow', 'red', 'red','red']  # Hot-cold color scheme\n",
    "}"
   ]
  },
  {
   "cell_type": "code",
   "execution_count": 9,
   "id": "21ff3432-9db6-41b1-a5cf-a091d164ff1a",
   "metadata": {},
   "outputs": [
    {
     "data": {
      "text/html": [
       "\n",
       "            <style>\n",
       "                .geemap-dark {\n",
       "                    --jp-widgets-color: white;\n",
       "                    --jp-widgets-label-color: white;\n",
       "                    --jp-ui-font-color1: white;\n",
       "                    --jp-layout-color2: #454545;\n",
       "                    background-color: #383838;\n",
       "                }\n",
       "                    \n",
       "                .geemap-dark .jupyter-button {\n",
       "                    --jp-layout-color3: #383838;\n",
       "                }\n",
       "                \n",
       "                .geemap-colab {\n",
       "                    background-color: var(--colab-primary-surface-color, white);\n",
       "                }\n",
       "                    \n",
       "                .geemap-colab .jupyter-button {\n",
       "                    --jp-layout-color3: var(--colab-primary-surface-color, white);\n",
       "                }\n",
       "            </style>\n",
       "            "
      ],
      "text/plain": [
       "<IPython.core.display.HTML object>"
      ]
     },
     "metadata": {},
     "output_type": "display_data"
    }
   ],
   "source": [
    "hydroBox =  [[[4.8139, 45.483364],\n",
    "   [4.8139, 45.499008],\n",
    "   [4.835873, 45.499008],\n",
    "   [4.835873, 45.483364],\n",
    "   [4.8139, 45.483364]]]\n",
    "hydroBoxEE = ee.Geometry.Polygon(hydroBox) #Vaugris\n",
    "NBox = [[[4.734421, 45.382416],\n",
    "   [4.734421, 45.408333],\n",
    "   [4.764977, 45.408333],\n",
    "   [4.764977, 45.382416],\n",
    "   [4.734421, 45.382416]]]\n",
    "NBoxEE = ee.Geometry.Polygon(NBox) #Saint Alban\n",
    "HBox2 = [[[4.820595, 45.678121],\n",
    "   [4.820595, 45.71469],\n",
    "   [4.852695, 45.71469],\n",
    "   [4.852695, 45.678121],\n",
    "   [4.820595, 45.678121]]]\n",
    "HBox2EE = ee.Geometry.Polygon(HBox2) # Pierre-Benite"
   ]
  },
  {
   "cell_type": "code",
   "execution_count": 10,
   "id": "f8aeab6d-dd40-4a57-b315-023e98b66dbd",
   "metadata": {},
   "outputs": [
    {
     "data": {
      "text/html": [
       "\n",
       "            <style>\n",
       "                .geemap-dark {\n",
       "                    --jp-widgets-color: white;\n",
       "                    --jp-widgets-label-color: white;\n",
       "                    --jp-ui-font-color1: white;\n",
       "                    --jp-layout-color2: #454545;\n",
       "                    background-color: #383838;\n",
       "                }\n",
       "                    \n",
       "                .geemap-dark .jupyter-button {\n",
       "                    --jp-layout-color3: #383838;\n",
       "                }\n",
       "                \n",
       "                .geemap-colab {\n",
       "                    background-color: var(--colab-primary-surface-color, white);\n",
       "                }\n",
       "                    \n",
       "                .geemap-colab .jupyter-button {\n",
       "                    --jp-layout-color3: var(--colab-primary-surface-color, white);\n",
       "                }\n",
       "            </style>\n",
       "            "
      ],
      "text/plain": [
       "<IPython.core.display.HTML object>"
      ]
     },
     "metadata": {},
     "output_type": "display_data"
    },
    {
     "data": {
      "application/vnd.jupyter.widget-view+json": {
       "model_id": "7fe805b106824375896a33b0f19edc9d",
       "version_major": 2,
       "version_minor": 0
      },
      "text/plain": [
       "Map(center=[0, 0], controls=(WidgetControl(options=['position', 'transparent_bg'], widget=SearchDataGUI(childr…"
      ]
     },
     "execution_count": 10,
     "metadata": {},
     "output_type": "execute_result"
    }
   ],
   "source": [
    "# create a map and see if the first image or another is best\n",
    "Map = geemap.Map()\n",
    "Map.addLayer(im, vis_params=visParams)\n",
    "Map.addLayer(ic.first(), vis_params={'bands':['SR_B2', 'SR_B3', 'SR_B4']}, shown=False)\n",
    "Map.addLayer(pp)\n",
    "Map.addLayer(hydroBoxEE)\n",
    "Map.centerObject(hydroBoxEE)\n",
    "Map\n",
    "# Pierre-Benite"
   ]
  },
  {
   "cell_type": "code",
   "execution_count": null,
   "id": "1aebf3f0-d8e8-4f36-928a-94c2ad32a1ce",
   "metadata": {},
   "outputs": [],
   "source": [
    "# create and save a downloadable polygon.  - no longer needed moved to hardcoded above\n",
    "# hydroBox = Map.draw_last_feature\n",
    "# hydroBox.geometry().getInfo()\n",
    "NBox2 = Map.draw_last_feature\n",
    "NBox2.geometry().getInfo()\n"
   ]
  },
  {
   "cell_type": "code",
   "execution_count": null,
   "id": "a7662b1d-5785-42a4-822e-aa2486279d79",
   "metadata": {},
   "outputs": [],
   "source": [
    "# download temp to map in QGIS"
   ]
  },
  {
   "cell_type": "markdown",
   "id": "4af452ef-c6bc-451a-901c-44bf1451465d",
   "metadata": {},
   "source": [
    "## Reservoir \n",
    "repeat "
   ]
  },
  {
   "cell_type": "code",
   "execution_count": null,
   "id": "e28736b2-dfdd-452d-851e-faef58ef4903",
   "metadata": {},
   "outputs": [],
   "source": [
    "im.getInfo()"
   ]
  },
  {
   "cell_type": "code",
   "execution_count": null,
   "id": "989434ac-091f-4393-94e1-4566e936140a",
   "metadata": {},
   "outputs": [],
   "source": [
    "scale = 30 \n",
    "fpN = 'D:\\\\RT_temperaturePrivate\\\\Analysis\\\\Figures\\\\ExampleThermalImages\\\\GEERasters\\\\SaintAlbanNuclear.tif'\n",
    "fpH = 'D:\\\\RT_temperaturePrivate\\\\Analysis\\\\Figures\\\\ExampleThermalImages\\\\GEERasters\\\\VaugrisHydro.tif'\n",
    "fpH2 = 'D:\\\\RT_temperaturePrivate\\\\Analysis\\\\Figures\\\\ExampleThermalImages\\\\GEERasters\\\\PierreBeniteHydro.tif'"
   ]
  },
  {
   "cell_type": "code",
   "execution_count": null,
   "id": "14c55b24-e5d3-470b-946a-fc5afcb9ed33",
   "metadata": {},
   "outputs": [],
   "source": [
    "im2 = im.reproject(crs='EPSG:4326', scale=30)"
   ]
  },
  {
   "cell_type": "code",
   "execution_count": null,
   "id": "973a1718-3094-4453-b1b0-162af31dbf2b",
   "metadata": {},
   "outputs": [],
   "source": [
    "# geemap.download_ee_image(\n",
    "#     image=im2,\n",
    "#     filename=fpN,\n",
    "#     region=NBoxEE, \n",
    "#     scale = scale) #crs = 'EPSG:32631'\n",
    "\n",
    "geemap.ee_export_image_to_drive(im, description='PierreBeniteHydro',  region=HBox2EE, scale=None, crs=None, crsTransform=None, maxPixels=None)"
   ]
  }
 ],
 "metadata": {
  "kernelspec": {
   "display_name": "Python 3 (ipykernel)",
   "language": "python",
   "name": "python3"
  },
  "language_info": {
   "codemirror_mode": {
    "name": "ipython",
    "version": 3
   },
   "file_extension": ".py",
   "mimetype": "text/x-python",
   "name": "python",
   "nbconvert_exporter": "python",
   "pygments_lexer": "ipython3",
   "version": "3.12.1"
  }
 },
 "nbformat": 4,
 "nbformat_minor": 5
}
