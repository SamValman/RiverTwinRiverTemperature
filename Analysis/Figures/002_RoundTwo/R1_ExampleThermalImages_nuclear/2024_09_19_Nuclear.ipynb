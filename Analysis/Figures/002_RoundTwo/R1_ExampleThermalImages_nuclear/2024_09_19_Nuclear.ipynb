{
 "cells": [
  {
   "cell_type": "code",
   "execution_count": 2,
   "id": "df5f294a-5984-4273-bfb3-2146408ee708",
   "metadata": {},
   "outputs": [],
   "source": [
    "%matplotlib inline\n",
    "import ee \n",
    "import geemap\n",
    "\n",
    "import matplotlib.pyplot as plt\n",
    "\n",
    "## will need to import the gee functions \n",
    "import os \n",
    "os.chdir(r'D:\\RT_temperaturePrivate\\Analysis\\RTT_Pycharm\\TemperatureFuncs')\n",
    "from LandsatGEE import extractLS8,extractLS9\n",
    "import GEE_GenericFuncs\n",
    "from AsterGEE import extractAster\n",
    "\n",
    "pp = ee.FeatureCollection(\"WRI/GPPD/power_plants\") \n"
   ]
  },
  {
   "cell_type": "code",
   "execution_count": 3,
   "id": "a7e00675-170d-462c-bd32-2b4e974c6bdb",
   "metadata": {},
   "outputs": [
    {
     "data": {
      "text/html": [
       "\n",
       "            <style>\n",
       "                .geemap-dark {\n",
       "                    --jp-widgets-color: white;\n",
       "                    --jp-widgets-label-color: white;\n",
       "                    --jp-ui-font-color1: white;\n",
       "                    --jp-layout-color2: #454545;\n",
       "                    background-color: #383838;\n",
       "                }\n",
       "                    \n",
       "                .geemap-dark .jupyter-button {\n",
       "                    --jp-layout-color3: #383838;\n",
       "                }\n",
       "                \n",
       "                .geemap-colab {\n",
       "                    background-color: var(--colab-primary-surface-color, white);\n",
       "                }\n",
       "                    \n",
       "                .geemap-colab .jupyter-button {\n",
       "                    --jp-layout-color3: var(--colab-primary-surface-color, white);\n",
       "                }\n",
       "            </style>\n",
       "            "
      ],
      "text/plain": [
       "<IPython.core.display.HTML object>"
      ]
     },
     "metadata": {},
     "output_type": "display_data"
    }
   ],
   "source": [
    "ee.Initialize()"
   ]
  },
  {
   "cell_type": "markdown",
   "id": "0f0ad8b2-5c90-485d-88bd-58e175f45f93",
   "metadata": {},
   "source": [
    "## Process\n",
    "* Will try and get as close to one image a month at this site\n",
    "* Will double check these then upload them one at a time\n",
    "* Will then download the temperature tifs "
   ]
  },
  {
   "cell_type": "markdown",
   "id": "60cc61eb-61de-4379-9bfb-7f1ca2a028a7",
   "metadata": {},
   "source": [
    "# DataSets"
   ]
  },
  {
   "cell_type": "markdown",
   "id": "a62c7751-9b15-44bc-a0f5-288c7d1b822a",
   "metadata": {},
   "source": [
    "## Confirmed dates - PS\n",
    "* LS8: 8th March == i8_1\n",
    "* LS8 18th April == i8_2\n",
    "* LS9 12th May == i9_3\n",
    "* LS9 20th June == i9_4\n",
    "* Aster: 8th of July == iA_5\n",
    "* LS9 16th August == i9_6\n",
    "* LS8 18th October == i8_7\n",
    "\n",
    "\n",
    "\n",
    "to check them we load them individually onto a map with a bounding box over the area we want\n"
   ]
  },
  {
   "cell_type": "code",
   "execution_count": 4,
   "id": "52dc1bea-ad83-4a53-aa0c-2b4a29eb11dc",
   "metadata": {},
   "outputs": [
    {
     "data": {
      "text/html": [
       "\n",
       "            <style>\n",
       "                .geemap-dark {\n",
       "                    --jp-widgets-color: white;\n",
       "                    --jp-widgets-label-color: white;\n",
       "                    --jp-ui-font-color1: white;\n",
       "                    --jp-layout-color2: #454545;\n",
       "                    background-color: #383838;\n",
       "                }\n",
       "                    \n",
       "                .geemap-dark .jupyter-button {\n",
       "                    --jp-layout-color3: #383838;\n",
       "                }\n",
       "                \n",
       "                .geemap-colab {\n",
       "                    background-color: var(--colab-primary-surface-color, white);\n",
       "                }\n",
       "                    \n",
       "                .geemap-colab .jupyter-button {\n",
       "                    --jp-layout-color3: var(--colab-primary-surface-color, white);\n",
       "                }\n",
       "            </style>\n",
       "            "
      ],
      "text/plain": [
       "<IPython.core.display.HTML object>"
      ]
     },
     "metadata": {},
     "output_type": "display_data"
    }
   ],
   "source": [
    "# set up\n",
    "task = 'extractValues_atmosphericallyCorrected'\n",
    "Ngeometry = ee.FeatureCollection('projects/ee-samuelvalman/assets/P3RT/Rhone')\n",
    "geometry = Ngeometry.geometry()"
   ]
  },
  {
   "cell_type": "code",
   "execution_count": 5,
   "id": "b17278d7-d103-4010-b14d-80a816f51d53",
   "metadata": {},
   "outputs": [
    {
     "data": {
      "text/html": [
       "\n",
       "            <style>\n",
       "                .geemap-dark {\n",
       "                    --jp-widgets-color: white;\n",
       "                    --jp-widgets-label-color: white;\n",
       "                    --jp-ui-font-color1: white;\n",
       "                    --jp-layout-color2: #454545;\n",
       "                    background-color: #383838;\n",
       "                }\n",
       "                    \n",
       "                .geemap-dark .jupyter-button {\n",
       "                    --jp-layout-color3: #383838;\n",
       "                }\n",
       "                \n",
       "                .geemap-colab {\n",
       "                    background-color: var(--colab-primary-surface-color, white);\n",
       "                }\n",
       "                    \n",
       "                .geemap-colab .jupyter-button {\n",
       "                    --jp-layout-color3: var(--colab-primary-surface-color, white);\n",
       "                }\n",
       "            </style>\n",
       "            "
      ],
      "text/plain": [
       "<IPython.core.display.HTML object>"
      ]
     },
     "metadata": {},
     "output_type": "display_data"
    }
   ],
   "source": [
    "\n",
    "#### I8_1 #####\n",
    "date_start = '2022-03-07'\n",
    "date_end = '2022-03-09'\n",
    "I8_1 =  extractLS8(geometry, task=task, date_start=date_start, date_end=date_end)\n",
    "#### I8_2 #####\n",
    "date_start = '2022-04-17'\n",
    "date_end = '2022-04-19'\n",
    "I8_2 =  extractLS8(geometry, task=task, date_start=date_start, date_end=date_end)\n",
    "#### I9_3 #####\n",
    "date_start = '2022-05-11'\n",
    "date_end = '2022-05-13'\n",
    "I9_3 =  extractLS9(geometry, task=task, date_start=date_start, date_end=date_end)\n",
    "#### I9_4 #####\n",
    "date_start = '2022-06-19'\n",
    "date_end = '2022-06-21'\n",
    "I9_4 =  extractLS9(geometry, task=task, date_start=date_start, date_end=date_end)\n",
    "#### Ia_5 #####\n",
    "date_start = '2022-07-08'\n",
    "date_end = '2022-07-09'\n",
    "Ia_5 =  extractAster(geometry, task=task, date_start=date_start, date_end=date_end)\n",
    "#### I9_6 #####\n",
    "date_start = '2022-08-15'\n",
    "date_end = '2022-08-17'\n",
    "I9_6 =  extractLS9(geometry, task=task, date_start=date_start, date_end=date_end)\n",
    "#### I8_7 #####\n",
    "date_start = '2022-10-17'\n",
    "date_end = '2022-10-19'\n",
    "I8_7 =  extractLS8(geometry, task=task, date_start=date_start, date_end=date_end)"
   ]
  },
  {
   "cell_type": "markdown",
   "id": "7bae522c-2f3c-404a-996d-8198d622d73d",
   "metadata": {},
   "source": [
    "# Plot these "
   ]
  },
  {
   "cell_type": "code",
   "execution_count": 6,
   "id": "0ad49d21-aa10-4990-bc30-59794257840a",
   "metadata": {},
   "outputs": [
    {
     "data": {
      "text/html": [
       "\n",
       "            <style>\n",
       "                .geemap-dark {\n",
       "                    --jp-widgets-color: white;\n",
       "                    --jp-widgets-label-color: white;\n",
       "                    --jp-ui-font-color1: white;\n",
       "                    --jp-layout-color2: #454545;\n",
       "                    background-color: #383838;\n",
       "                }\n",
       "                    \n",
       "                .geemap-dark .jupyter-button {\n",
       "                    --jp-layout-color3: #383838;\n",
       "                }\n",
       "                \n",
       "                .geemap-colab {\n",
       "                    background-color: var(--colab-primary-surface-color, white);\n",
       "                }\n",
       "                    \n",
       "                .geemap-colab .jupyter-button {\n",
       "                    --jp-layout-color3: var(--colab-primary-surface-color, white);\n",
       "                }\n",
       "            </style>\n",
       "            "
      ],
      "text/plain": [
       "<IPython.core.display.HTML object>"
      ]
     },
     "metadata": {},
     "output_type": "display_data"
    }
   ],
   "source": [
    "visParams = visParams = {'bands': ['wst'],  'min': 20,  'max': 34, 'palette': ['blue', 'blue', 'blue', 'cyan', 'green', 'yellow', 'red', 'red','red']}"
   ]
  },
  {
   "cell_type": "code",
   "execution_count": 7,
   "id": "d7e95ac2-7d60-4df1-adcb-1fd34742d471",
   "metadata": {},
   "outputs": [
    {
     "data": {
      "text/html": [
       "\n",
       "            <style>\n",
       "                .geemap-dark {\n",
       "                    --jp-widgets-color: white;\n",
       "                    --jp-widgets-label-color: white;\n",
       "                    --jp-ui-font-color1: white;\n",
       "                    --jp-layout-color2: #454545;\n",
       "                    background-color: #383838;\n",
       "                }\n",
       "                    \n",
       "                .geemap-dark .jupyter-button {\n",
       "                    --jp-layout-color3: #383838;\n",
       "                }\n",
       "                \n",
       "                .geemap-colab {\n",
       "                    background-color: var(--colab-primary-surface-color, white);\n",
       "                }\n",
       "                    \n",
       "                .geemap-colab .jupyter-button {\n",
       "                    --jp-layout-color3: var(--colab-primary-surface-color, white);\n",
       "                }\n",
       "            </style>\n",
       "            "
      ],
      "text/plain": [
       "<IPython.core.display.HTML object>"
      ]
     },
     "metadata": {},
     "output_type": "display_data"
    }
   ],
   "source": [
    "outline = [[[4.734421, 45.382416],\n",
    "   [4.734421, 45.408333],\n",
    "   [4.764977, 45.408333],\n",
    "   [4.764977, 45.382416],\n",
    "   [4.734421, 45.382416]]]\n",
    "outline = ee.Geometry.Polygon(outline) #Saint Alban"
   ]
  },
  {
   "cell_type": "code",
   "execution_count": 8,
   "id": "f443cd6c-68ca-4d97-bcdf-c8a7edfcdddc",
   "metadata": {},
   "outputs": [
    {
     "data": {
      "text/html": [
       "\n",
       "            <style>\n",
       "                .geemap-dark {\n",
       "                    --jp-widgets-color: white;\n",
       "                    --jp-widgets-label-color: white;\n",
       "                    --jp-ui-font-color1: white;\n",
       "                    --jp-layout-color2: #454545;\n",
       "                    background-color: #383838;\n",
       "                }\n",
       "                    \n",
       "                .geemap-dark .jupyter-button {\n",
       "                    --jp-layout-color3: #383838;\n",
       "                }\n",
       "                \n",
       "                .geemap-colab {\n",
       "                    background-color: var(--colab-primary-surface-color, white);\n",
       "                }\n",
       "                    \n",
       "                .geemap-colab .jupyter-button {\n",
       "                    --jp-layout-color3: var(--colab-primary-surface-color, white);\n",
       "                }\n",
       "            </style>\n",
       "            "
      ],
      "text/plain": [
       "<IPython.core.display.HTML object>"
      ]
     },
     "metadata": {},
     "output_type": "display_data"
    },
    {
     "name": "stdout",
     "output_type": "stream",
     "text": [
      "1\n"
     ]
    }
   ],
   "source": [
    "imlist = [I8_1, I8_2, I9_3, I9_4, Ia_5, I9_6, I8_7]\n",
    "ic = imlist[6]\n",
    "print(ic.size().getInfo())\n",
    "im = ic.select('wst') #.first()\n",
    "\n",
    "Map = geemap.Map()\n",
    "Map.addLayer(im, vis_params=visParams, name='s')\n",
    "# Map.addLayer(ic.first(), vis_params={'bands':['SR_B2', 'SR_B3', 'SR_B4']}, shown=False)\n",
    "# Map.addLayer(pp)\n",
    "# Map.addLayer(outline)\n",
    "Map.centerObject(outline)\n",
    "# Map"
   ]
  },
  {
   "cell_type": "code",
   "execution_count": 9,
   "id": "9790b282-2cfe-44ec-a3b3-1125244ceccc",
   "metadata": {},
   "outputs": [
    {
     "data": {
      "text/html": [
       "\n",
       "            <style>\n",
       "                .geemap-dark {\n",
       "                    --jp-widgets-color: white;\n",
       "                    --jp-widgets-label-color: white;\n",
       "                    --jp-ui-font-color1: white;\n",
       "                    --jp-layout-color2: #454545;\n",
       "                    background-color: #383838;\n",
       "                }\n",
       "                    \n",
       "                .geemap-dark .jupyter-button {\n",
       "                    --jp-layout-color3: #383838;\n",
       "                }\n",
       "                \n",
       "                .geemap-colab {\n",
       "                    background-color: var(--colab-primary-surface-color, white);\n",
       "                }\n",
       "                    \n",
       "                .geemap-colab .jupyter-button {\n",
       "                    --jp-layout-color3: var(--colab-primary-surface-color, white);\n",
       "                }\n",
       "            </style>\n",
       "            "
      ],
      "text/plain": [
       "<IPython.core.display.HTML object>"
      ]
     },
     "metadata": {},
     "output_type": "display_data"
    }
   ],
   "source": [
    "# WaterMasks\n",
    "wm = ee.ImageCollection('projects/ee-samuelvalman/assets/P3RT/waterMasks')"
   ]
  },
  {
   "cell_type": "markdown",
   "id": "302600a7-30cd-4db5-a86e-f6a3a27550d5",
   "metadata": {},
   "source": [
    "# download "
   ]
  },
  {
   "cell_type": "code",
   "execution_count": 12,
   "id": "9c39cb13-10f9-4c76-895d-bcaa926feda9",
   "metadata": {},
   "outputs": [
    {
     "data": {
      "text/html": [
       "\n",
       "            <style>\n",
       "                .geemap-dark {\n",
       "                    --jp-widgets-color: white;\n",
       "                    --jp-widgets-label-color: white;\n",
       "                    --jp-ui-font-color1: white;\n",
       "                    --jp-layout-color2: #454545;\n",
       "                    background-color: #383838;\n",
       "                }\n",
       "                    \n",
       "                .geemap-dark .jupyter-button {\n",
       "                    --jp-layout-color3: #383838;\n",
       "                }\n",
       "                \n",
       "                .geemap-colab {\n",
       "                    background-color: var(--colab-primary-surface-color, white);\n",
       "                }\n",
       "                    \n",
       "                .geemap-colab .jupyter-button {\n",
       "                    --jp-layout-color3: var(--colab-primary-surface-color, white);\n",
       "                }\n",
       "            </style>\n",
       "            "
      ],
      "text/plain": [
       "<IPython.core.display.HTML object>"
      ]
     },
     "metadata": {},
     "output_type": "display_data"
    }
   ],
   "source": [
    "imlist = [I8_1, I8_2, I9_3, I9_4, Ia_5, I9_6, I8_7]\n",
    "nm = ['2022_03_08', '2022_04_18', '2022_05_12', '2022_06_20','2022_07_08','2022_08_16', '2022_10_18']\n",
    "for i in range(len(imlist)):\n",
    "    ic = imlist[i]\n",
    "    im = ic.select('wst').median()\n",
    "    im2 = im.reproject(crs='EPSG:4326', scale=30)\n",
    "\n",
    "    geemap.ee_export_image_to_drive(im2, description=nm[i],  region=outline, scale=30, crs=None, crsTransform=None, maxPixels=None)"
   ]
  },
  {
   "cell_type": "code",
   "execution_count": null,
   "id": "6c602589-523d-4256-a719-a72a5b364c0d",
   "metadata": {},
   "outputs": [],
   "source": []
  }
 ],
 "metadata": {
  "kernelspec": {
   "display_name": "Python 3 (ipykernel)",
   "language": "python",
   "name": "python3"
  },
  "language_info": {
   "codemirror_mode": {
    "name": "ipython",
    "version": 3
   },
   "file_extension": ".py",
   "mimetype": "text/x-python",
   "name": "python",
   "nbconvert_exporter": "python",
   "pygments_lexer": "ipython3",
   "version": "3.12.1"
  }
 },
 "nbformat": 4,
 "nbformat_minor": 5
}
