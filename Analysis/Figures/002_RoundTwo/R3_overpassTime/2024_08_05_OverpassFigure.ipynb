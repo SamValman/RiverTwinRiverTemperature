{
 "cells": [
  {
   "cell_type": "code",
   "execution_count": 5,
   "id": "456ebbc8",
   "metadata": {},
   "outputs": [],
   "source": [
    "import geemap\n",
    "import ee\n",
    "import matplotlib\n",
    "import pandas as pd\n",
    "import pytz\n"
   ]
  },
  {
   "cell_type": "code",
   "execution_count": 2,
   "id": "0ee872a3",
   "metadata": {},
   "outputs": [],
   "source": [
    "ee.Initialize()"
   ]
  },
  {
   "cell_type": "code",
   "execution_count": 3,
   "id": "27777a09",
   "metadata": {},
   "outputs": [],
   "source": [
    "N = 45.40682960240968 \n",
    "E = 4.747075353314043\n",
    "# turn into a gee point\n",
    "point = ee.Geometry.Point([E, N])\n",
    "start_date = '2024-06-01'\n",
    "end_date = '2024-06-30'"
   ]
  },
  {
   "cell_type": "code",
   "execution_count": 4,
   "id": "b77a60e9",
   "metadata": {},
   "outputs": [
    {
     "data": {
      "application/vnd.jupyter.widget-view+json": {
       "model_id": "c0c2725052c843d794234e558152a3db",
       "version_major": 2,
       "version_minor": 0
      },
      "text/plain": [
       "Map(center=[20, 0], controls=(WidgetControl(options=['position', 'transparent_bg'], widget=HBox(children=(Togg…"
      ]
     },
     "metadata": {},
     "output_type": "display_data"
    }
   ],
   "source": [
    "# check that\n",
    "Map = geemap.Map()\n",
    "Map.addLayer(point)\n",
    "Map.centerObject(point)\n",
    "Map"
   ]
  },
  {
   "cell_type": "markdown",
   "id": "3d802f51",
   "metadata": {},
   "source": [
    "# Get SAT dates/times"
   ]
  },
  {
   "cell_type": "code",
   "execution_count": 7,
   "id": "27216b7c",
   "metadata": {},
   "outputs": [],
   "source": [
    "# get each collection \n",
    "ASTER = ee.ImageCollection(\"ASTER/AST_L1T_003\").filterDate(start_date, end_date).filterBounds(point)\n",
    "LS9 = ee.ImageCollection(\"LANDSAT/LC09/C02/T1_L2\").filterDate(start_date, end_date).filterBounds(point)\n",
    "LS8 = ee.ImageCollection(\"LANDSAT/LC08/C02/T1_L2\").filterDate(start_date, end_date).filterBounds(point)\n",
    "\n",
    "# LS8.size().getInfo()"
   ]
  },
  {
   "cell_type": "code",
   "execution_count": 13,
   "id": "c075b2e0",
   "metadata": {},
   "outputs": [],
   "source": [
    "# get the dates and times\n",
    "def printOutDates(ic, year=False, op=False, riverName=False):\n",
    "    '''\n",
    "    extracts a df of dates and times from an image collection in GEE\n",
    "    Should already have cloud etc accounted for \n",
    "\n",
    "    Parameters\n",
    "    ----------\n",
    "    ic : GEE image collection\n",
    "        this is built to be within the LandsatGEE functions.\n",
    "        \n",
    "    A saving function has been left in but will not be used in the main processing algorithm for the paper\n",
    "    year : str, optional\n",
    "        The default is False.\n",
    "    op : str, optional\n",
    "        The default is False.\n",
    "    riverName : str, optional\n",
    "         The default is False.\n",
    "\n",
    "    Returns\n",
    "    -------\n",
    "    df : TYPE\n",
    "        DESCRIPTION.\n",
    "\n",
    "    '''\n",
    "    dates = []\n",
    "    times = []\n",
    "    try:\n",
    "        icList = ic.toList(ic.size())\n",
    "        icInfo = icList.getInfo()\n",
    "\n",
    "    except:\n",
    "        # print('Ic empty')\n",
    "        # print(ic.size().getInfo())\n",
    "        # returning an empty dataframe enables generate dates to run and just not include this satellite\n",
    "        return pd.DataFrame({})\n",
    "    tz = pytz.timezone('Europe/Paris')\n",
    "\n",
    "    for im in icInfo:\n",
    "        \n",
    "        dt = pd.to_datetime(im['properties']['system:time_start'], unit='ms')\n",
    "#         dt = dt.tz_localize('UTC').tz_convert(tz)\n",
    "\n",
    "        date = dt.date()\n",
    "        time = dt.time()\n",
    "        \n",
    "        dates.append(date)\n",
    "        times.append(time)\n",
    "    df = pd.DataFrame({'date':dates, 'time':times})\n",
    "    \n",
    "    ## effectively removed due to processing functioning running without - to save duplicate saving of dates\n",
    "    if op != False:\n",
    "        # check path for river exists\n",
    "        op = os.path.join(op, (riverName+str(year)+'.csv'))\n",
    "        df.to_csv(op)\n",
    "        \n",
    "    return df\n"
   ]
  },
  {
   "cell_type": "code",
   "execution_count": 14,
   "id": "3c266c73",
   "metadata": {},
   "outputs": [],
   "source": [
    "# print these \n",
    "A_df = printOutDates(ASTER)\n",
    "ls9_df = printOutDates(LS9)\n",
    "ls8_df= printOutDates(LS8)\n"
   ]
  },
  {
   "cell_type": "code",
   "execution_count": 15,
   "id": "b994d194",
   "metadata": {},
   "outputs": [
    {
     "name": "stdout",
     "output_type": "stream",
     "text": [
      "         date      time    sat\n",
      "0  2024-06-16  10:00:01  Aster\n",
      "         date             time       sat\n",
      "0  2024-06-02  10:22:27.432000  Landsat9\n",
      "1  2024-06-18  10:22:14.319000  Landsat9\n",
      "2  2024-06-02  10:22:51.315000  Landsat9\n",
      "3  2024-06-18  10:22:38.197000  Landsat9\n",
      "4  2024-06-25  10:28:18.883000  Landsat9\n",
      "         date             time       sat\n",
      "0  2024-06-10  10:22:10.101000  Landsat8\n",
      "1  2024-06-26  10:22:21.797000  Landsat8\n",
      "2  2024-06-10  10:22:33.988000  Landsat8\n",
      "3  2024-06-26  10:22:45.684000  Landsat8\n",
      "4  2024-06-17  10:28:25.844000  Landsat8\n"
     ]
    }
   ],
   "source": [
    "# ASTER\n",
    "dfs = [A_df, ls9_df, ls8_df]\n",
    "names = ['Aster', 'Landsat9', 'Landsat8']\n",
    "for a, name in zip(dfs, names):\n",
    "    a['sat'] = name\n",
    "    print(a)"
   ]
  },
  {
   "cell_type": "code",
   "execution_count": 10,
   "id": "8a178412",
   "metadata": {},
   "outputs": [],
   "source": [
    "# save\n",
    "final = pd.concat(dfs).sort_values('date')"
   ]
  },
  {
   "cell_type": "code",
   "execution_count": 11,
   "id": "06a3b902",
   "metadata": {},
   "outputs": [],
   "source": [
    "op = r'C:\\Users\\lgxsv2\\OneDrive - The University of Nottingham\\PhD\\yr_2\\18_PaperThree\\RT_temperaturePrivate\\Analysis\\Figures\\laptopBased_overpassTime\\GEEDates.csv'"
   ]
  },
  {
   "cell_type": "code",
   "execution_count": 12,
   "id": "148afd30",
   "metadata": {},
   "outputs": [],
   "source": [
    "final.to_csv(op)"
   ]
  },
  {
   "cell_type": "code",
   "execution_count": null,
   "id": "6e9e6864",
   "metadata": {},
   "outputs": [],
   "source": []
  },
  {
   "cell_type": "code",
   "execution_count": null,
   "id": "b2b63706",
   "metadata": {},
   "outputs": [],
   "source": []
  }
 ],
 "metadata": {
  "kernelspec": {
   "display_name": "Python 3 (ipykernel)",
   "language": "python",
   "name": "python3"
  },
  "language_info": {
   "codemirror_mode": {
    "name": "ipython",
    "version": 3
   },
   "file_extension": ".py",
   "mimetype": "text/x-python",
   "name": "python",
   "nbconvert_exporter": "python",
   "pygments_lexer": "ipython3",
   "version": "3.12.1"
  }
 },
 "nbformat": 4,
 "nbformat_minor": 5
}
