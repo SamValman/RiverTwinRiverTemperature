{
 "cells": [
  {
   "cell_type": "code",
   "execution_count": 20,
   "id": "b9bca71e",
   "metadata": {},
   "outputs": [
    {
     "data": {
      "text/html": [
       "\n",
       "            <style>\n",
       "                .geemap-dark {\n",
       "                    --jp-widgets-color: white;\n",
       "                    --jp-widgets-label-color: white;\n",
       "                    --jp-ui-font-color1: white;\n",
       "                    --jp-layout-color2: #454545;\n",
       "                    background-color: #383838;\n",
       "                }\n",
       "                    \n",
       "                .geemap-dark .jupyter-button {\n",
       "                    --jp-layout-color3: #383838;\n",
       "                }\n",
       "                \n",
       "                .geemap-colab {\n",
       "                    background-color: var(--colab-primary-surface-color, white);\n",
       "                }\n",
       "                    \n",
       "                .geemap-colab .jupyter-button {\n",
       "                    --jp-layout-color3: var(--colab-primary-surface-color, white);\n",
       "                }\n",
       "            </style>\n",
       "            "
      ],
      "text/plain": [
       "<IPython.core.display.HTML object>"
      ]
     },
     "metadata": {},
     "output_type": "display_data"
    },
    {
     "name": "stdout",
     "output_type": "stream",
     "text": [
      "%pylab is deprecated, use %matplotlib inline and import the required libraries.\n",
      "Populating the interactive namespace from numpy and matplotlib\n"
     ]
    }
   ],
   "source": [
    "%pylab inline\n",
    "import ee\n",
    "import geemap\n",
    "import cartopy.crs as ccrs\n",
    "import os\n",
    "ee.Authenticate()\n",
    "\n",
    "from geemap import cartoee as cee\n",
    "geemap.ee.Initialize()"
   ]
  },
  {
   "cell_type": "code",
   "execution_count": 61,
   "id": "162590f5",
   "metadata": {},
   "outputs": [
    {
     "data": {
      "text/html": [
       "\n",
       "            <style>\n",
       "                .geemap-dark {\n",
       "                    --jp-widgets-color: white;\n",
       "                    --jp-widgets-label-color: white;\n",
       "                    --jp-ui-font-color1: white;\n",
       "                    --jp-layout-color2: #454545;\n",
       "                    background-color: #383838;\n",
       "                }\n",
       "                    \n",
       "                .geemap-dark .jupyter-button {\n",
       "                    --jp-layout-color3: #383838;\n",
       "                }\n",
       "                \n",
       "                .geemap-colab {\n",
       "                    background-color: var(--colab-primary-surface-color, white);\n",
       "                }\n",
       "                    \n",
       "                .geemap-colab .jupyter-button {\n",
       "                    --jp-layout-color3: var(--colab-primary-surface-color, white);\n",
       "                }\n",
       "            </style>\n",
       "            "
      ],
      "text/plain": [
       "<IPython.core.display.HTML object>"
      ]
     },
     "metadata": {},
     "output_type": "display_data"
    }
   ],
   "source": [
    "# https://developers.google.com/earth-engine/datasets/catalog/WRI_GPPD_power_plants\n",
    "pp = ee.FeatureCollection(\"WRI/GPPD/power_plants\") \n",
    "Yangtze = ee.FeatureCollection('projects/ee-samuelvalman/assets/P3RT/Yangtze')\n",
    "Yellow = ee.FeatureCollection('projects/ee-samuelvalman/assets/P3RT/Yellow')\n",
    "SaintLawrence = ee.FeatureCollection('projects/ee-samuelvalman/assets/P3RT/SaintLawrence')\n",
    "Rhone = ee.FeatureCollection('projects/ee-samuelvalman/assets/P3RT/Rhone')\n",
    "Parana = ee.FeatureCollection('projects/ee-samuelvalman/assets/P3RT/Parana')\n",
    "Nile = ee.FeatureCollection('projects/ee-samuelvalman/assets/P3RT/Nile')\n",
    "Niger = ee.FeatureCollection('projects/ee-samuelvalman/assets/P3RT/Niger')\n",
    "Mississippi = ee.FeatureCollection('projects/ee-samuelvalman/assets/P3RT/Mississippi')\n",
    "Danube = ee.FeatureCollection('projects/ee-samuelvalman/assets/P3RT/Danube')\n",
    "Amazon = ee.FeatureCollection('projects/ee-samuelvalman/assets/P3RT/Amazon')\n",
    "\n",
    "\n",
    "disToCity = ee.Image(\"Oxford/MAP/accessibility_to_cities_2015_v1_0\") \n",
    "urban = ee.Image(\"DLR/WSF/WSF2015/v1\")\n",
    "\n",
    "\n",
    "# GRWLvar \n",
    "river = ee.FeatureCollection(\"projects/sat-io/open-datasets/GRWL/water_vector_v01_01\")\n",
    "\n",
    "\n"
   ]
  },
  {
   "cell_type": "markdown",
   "id": "37a3a019",
   "metadata": {},
   "source": [
    "# interactive tests"
   ]
  },
  {
   "cell_type": "code",
   "execution_count": 10,
   "id": "444ea6a6",
   "metadata": {},
   "outputs": [
    {
     "data": {
      "text/html": [
       "\n",
       "            <style>\n",
       "                .geemap-dark {\n",
       "                    --jp-widgets-color: white;\n",
       "                    --jp-widgets-label-color: white;\n",
       "                    --jp-ui-font-color1: white;\n",
       "                    --jp-layout-color2: #454545;\n",
       "                    background-color: #383838;\n",
       "                }\n",
       "                    \n",
       "                .geemap-dark .jupyter-button {\n",
       "                    --jp-layout-color3: #383838;\n",
       "                }\n",
       "                \n",
       "                .geemap-colab {\n",
       "                    background-color: var(--colab-primary-surface-color, white);\n",
       "                }\n",
       "                    \n",
       "                .geemap-colab .jupyter-button {\n",
       "                    --jp-layout-color3: var(--colab-primary-surface-color, white);\n",
       "                }\n",
       "            </style>\n",
       "            "
      ],
      "text/plain": [
       "<IPython.core.display.HTML object>"
      ]
     },
     "metadata": {},
     "output_type": "display_data"
    }
   ],
   "source": [
    "def makePlot(site, power, background, river):\n",
    "    \n",
    "    u = background.clip(site.geometry())\n",
    "    \n",
    "    ## outline site \n",
    "    outlined_fc = ee.Image().byte().paint(site, 1, 2 ) # 1 is the color (black), 2 is the width of the outline\n",
    "    vis_params = {'palette': ['000000'],  # Black color\n",
    "    'opacity': 1.0}\n",
    "    \n",
    "    \n",
    "    fuelColor = { 'Coal': 'e31a1c', # red\n",
    "                  'Oil': '593704',\n",
    "                  'Gas': 'bc80bd',\n",
    "                  'Hydro': '0565A6',\n",
    "                  'Nuclear': 'FFFF00',\n",
    "                  'Solar': 'ff7f00',\n",
    "                  'Waste': '6a3d9a',\n",
    "                  'Wind': '5ca2d1',\n",
    "                  'Geothermal': 'fdbf6f',\n",
    "                  'Biomass': '229a00'}\n",
    "    fuels = [    'Coal', 'Oil', 'Gas', 'Hydro', 'Nuclear',\n",
    "    'Solar', 'Waste', 'Wind', 'Geothermal', 'Biomass']\n",
    "    \n",
    "    river =  river.map(lambda feature: feature.intersection(site.geometry(), ee.ErrorMargin(1)))\n",
    "\n",
    "    \n",
    "    ## create the map:\n",
    "    Map = geemap.Map()\n",
    "    Map.addLayer(u, {'palette':'404040'},name='background')\n",
    "\n",
    "    for fuel in fuels:\n",
    "        fil = power.filter(ee.Filter.eq('fuel1', fuel)).style(color=fuelColor[fuel])\n",
    "        Map.addLayer(fil, name=fuel)\n",
    "    rs = {'color':'0000FF'}\n",
    "    Map.addLayer(river.style('0565A6')) # 0000FF\n",
    "    Map.addLayer(outlined_fc, vis_params)\n",
    "    Map.centerObject(site)\n",
    "    return Map\n",
    "    "
   ]
  },
  {
   "cell_type": "code",
   "execution_count": 13,
   "id": "86f06bf0",
   "metadata": {},
   "outputs": [
    {
     "data": {
      "text/html": [
       "\n",
       "            <style>\n",
       "                .geemap-dark {\n",
       "                    --jp-widgets-color: white;\n",
       "                    --jp-widgets-label-color: white;\n",
       "                    --jp-ui-font-color1: white;\n",
       "                    --jp-layout-color2: #454545;\n",
       "                    background-color: #383838;\n",
       "                }\n",
       "                    \n",
       "                .geemap-dark .jupyter-button {\n",
       "                    --jp-layout-color3: #383838;\n",
       "                }\n",
       "                \n",
       "                .geemap-colab {\n",
       "                    background-color: var(--colab-primary-surface-color, white);\n",
       "                }\n",
       "                    \n",
       "                .geemap-colab .jupyter-button {\n",
       "                    --jp-layout-color3: var(--colab-primary-surface-color, white);\n",
       "                }\n",
       "            </style>\n",
       "            "
      ],
      "text/plain": [
       "<IPython.core.display.HTML object>"
      ]
     },
     "metadata": {},
     "output_type": "display_data"
    },
    {
     "data": {
      "application/vnd.jupyter.widget-view+json": {
       "model_id": "c6e043b16a15432d82e44787f777bb59",
       "version_major": 2,
       "version_minor": 0
      },
      "text/plain": [
       "Map(center=[0, 0], controls=(WidgetControl(options=['position', 'transparent_bg'], widget=SearchDataGUI(childr…"
      ]
     },
     "execution_count": 13,
     "metadata": {},
     "output_type": "execute_result"
    }
   ],
   "source": [
    "# m = makePlot(yangtze, pp, urban)\n",
    "# m = makePlot(Yellow, pp, urban, river)\n",
    "# m = makePlot(Danube, pp, urban)\n",
    "# m = makePlot(Rhone, pp, urban)\n",
    "# m = makePlot(Mississippi, pp, urban)\n",
    "# m = makePlot(SaintLawrence, pp, urban)\n",
    "# m = makePlot(Parana, pp, urban)\n",
    "# m = makePlot(Amazon, pp, urban)\n",
    "m = makePlot(Nile, pp, urban, river)\n",
    "# m = makePlot(Niger, pp, urban)\n",
    "\n",
    "\n",
    "m"
   ]
  },
  {
   "cell_type": "markdown",
   "id": "72671d81-af9d-47d7-bc40-8f2f474d2e45",
   "metadata": {},
   "source": [
    "# Download important aspects for Qgis mapping"
   ]
  },
  {
   "cell_type": "code",
   "execution_count": 71,
   "id": "f795bfd1-c430-460c-8867-98bd318e907c",
   "metadata": {},
   "outputs": [
    {
     "data": {
      "text/html": [
       "\n",
       "            <style>\n",
       "                .geemap-dark {\n",
       "                    --jp-widgets-color: white;\n",
       "                    --jp-widgets-label-color: white;\n",
       "                    --jp-ui-font-color1: white;\n",
       "                    --jp-layout-color2: #454545;\n",
       "                    background-color: #383838;\n",
       "                }\n",
       "                    \n",
       "                .geemap-dark .jupyter-button {\n",
       "                    --jp-layout-color3: #383838;\n",
       "                }\n",
       "                \n",
       "                .geemap-colab {\n",
       "                    background-color: var(--colab-primary-surface-color, white);\n",
       "                }\n",
       "                    \n",
       "                .geemap-colab .jupyter-button {\n",
       "                    --jp-layout-color3: var(--colab-primary-surface-color, white);\n",
       "                }\n",
       "            </style>\n",
       "            "
      ],
      "text/plain": [
       "<IPython.core.display.HTML object>"
      ]
     },
     "metadata": {},
     "output_type": "display_data"
    }
   ],
   "source": [
    "def downloadableItems(fc, urban=urban, river=river,pp=pp):\n",
    "    '''\n",
    "    fc: feature collection e.g., rhone etc\n",
    "    urban == urban grey areas\n",
    "    river == GRWL river\n",
    "    pp == powerplants\n",
    "    '''\n",
    "    r_out =  river.filterBounds(fc.geometry())#river.map(lambda feature: feature.intersection(fc.geometry(), ee.ErrorMargin(1)))\n",
    "    u_out = urban.clip(fc.geometry())\n",
    "\n",
    "    p_out = pp.filterBounds(fc.geometry())\n",
    "\n",
    "    return r_out, u_out, p_out\n",
    "\n",
    "def downloadThese(r, u, p, riverName):\n",
    "    '''\n",
    "    r, u, p are outputs of downloadableItems\n",
    "    riverName is a str\n",
    "    '''\n",
    "    opPath = r'D:\\RT_temperaturePrivate\\Analysis\\Figures\\002_RoundTwo\\M2_SitePanel\\GEEDownloads'\n",
    "    # make file pats\n",
    "    rp = riverName + '_river.shp'\n",
    "    up= riverName + '_urban.tif'\n",
    "    pp = riverName + '_pp.shp'\n",
    "    \n",
    "    rp = os.path.join(opPath, rp)\n",
    "    up = os.path.join(opPath, up)\n",
    "    pp = os.path.join(opPath, pp)\n",
    "\n",
    "    # print(rp)\n",
    "    # download shape files\n",
    "    # geemap.ee_export_vector(r, rp)#, fileFormat='shp')\n",
    "    # geemap.ee_export_vector(p, pp)#, fileFormat='shp')\n",
    "    geemap.ee_export_image(u, up, scale = 30)\n",
    "    print('complete for ' + riverName)"
   ]
  },
  {
   "cell_type": "code",
   "execution_count": 73,
   "id": "fea91944-13e1-4b6b-a533-849a1fe81775",
   "metadata": {},
   "outputs": [
    {
     "data": {
      "text/html": [
       "\n",
       "            <style>\n",
       "                .geemap-dark {\n",
       "                    --jp-widgets-color: white;\n",
       "                    --jp-widgets-label-color: white;\n",
       "                    --jp-ui-font-color1: white;\n",
       "                    --jp-layout-color2: #454545;\n",
       "                    background-color: #383838;\n",
       "                }\n",
       "                    \n",
       "                .geemap-dark .jupyter-button {\n",
       "                    --jp-layout-color3: #383838;\n",
       "                }\n",
       "                \n",
       "                .geemap-colab {\n",
       "                    background-color: var(--colab-primary-surface-color, white);\n",
       "                }\n",
       "                    \n",
       "                .geemap-colab .jupyter-button {\n",
       "                    --jp-layout-color3: var(--colab-primary-surface-color, white);\n",
       "                }\n",
       "            </style>\n",
       "            "
      ],
      "text/plain": [
       "<IPython.core.display.HTML object>"
      ]
     },
     "metadata": {},
     "output_type": "display_data"
    },
    {
     "name": "stdout",
     "output_type": "stream",
     "text": [
      "Generating URL ...\n",
      "Downloading data from https://earthengine.googleapis.com/v1/projects/earthengine-legacy/thumbnails/e870a7c62742ac02c8d1d878968cf10b-c8fb0cbc373152d844053c2b8b64abae:getPixels\n",
      "Please wait ...\n",
      "Data downloaded to D:\\RT_temperaturePrivate\\Analysis\\Figures\\002_RoundTwo\\M2_SitePanel\\GEEDownloads\\Nile_urban.tif\n",
      "complete for Nile\n"
     ]
    }
   ],
   "source": [
    "r,u,p = downloadableItems(Nile)\n",
    "downloadThese(r, u, p, 'Nile')\n",
    "# r,u,p = downloadableItems(Rhone)\n",
    "# downloadThese(r, u, p, 'Rhone')\n",
    "# r,u,p = downloadableItems(Yangtze)\n",
    "# downloadThese(r, u, p, 'Yangtze')"
   ]
  },
  {
   "cell_type": "code",
   "execution_count": 70,
   "id": "8eac44f7-2e2f-418d-b2d8-2aff1b5c76a2",
   "metadata": {},
   "outputs": [
    {
     "data": {
      "text/html": [
       "\n",
       "            <style>\n",
       "                .geemap-dark {\n",
       "                    --jp-widgets-color: white;\n",
       "                    --jp-widgets-label-color: white;\n",
       "                    --jp-ui-font-color1: white;\n",
       "                    --jp-layout-color2: #454545;\n",
       "                    background-color: #383838;\n",
       "                }\n",
       "                    \n",
       "                .geemap-dark .jupyter-button {\n",
       "                    --jp-layout-color3: #383838;\n",
       "                }\n",
       "                \n",
       "                .geemap-colab {\n",
       "                    background-color: var(--colab-primary-surface-color, white);\n",
       "                }\n",
       "                    \n",
       "                .geemap-colab .jupyter-button {\n",
       "                    --jp-layout-color3: var(--colab-primary-surface-color, white);\n",
       "                }\n",
       "            </style>\n",
       "            "
      ],
      "text/plain": [
       "<IPython.core.display.HTML object>"
      ]
     },
     "metadata": {},
     "output_type": "display_data"
    },
    {
     "data": {
      "application/vnd.jupyter.widget-view+json": {
       "model_id": "cb35dd7ae9f4414dade74ef0d16229c0",
       "version_major": 2,
       "version_minor": 0
      },
      "text/plain": [
       "Map(center=[0, 0], controls=(WidgetControl(options=['position', 'transparent_bg'], widget=SearchDataGUI(childr…"
      ]
     },
     "execution_count": 70,
     "metadata": {},
     "output_type": "execute_result"
    }
   ],
   "source": [
    "Map = geemap.Map()\n",
    "Map.addLayer(u)\n",
    "Map.centerObject(u)\n",
    "Map"
   ]
  },
  {
   "cell_type": "code",
   "execution_count": 67,
   "id": "d0b8c53c-8cdf-4821-ba14-2a4a33b43013",
   "metadata": {},
   "outputs": [
    {
     "data": {
      "text/html": [
       "\n",
       "            <style>\n",
       "                .geemap-dark {\n",
       "                    --jp-widgets-color: white;\n",
       "                    --jp-widgets-label-color: white;\n",
       "                    --jp-ui-font-color1: white;\n",
       "                    --jp-layout-color2: #454545;\n",
       "                    background-color: #383838;\n",
       "                }\n",
       "                    \n",
       "                .geemap-dark .jupyter-button {\n",
       "                    --jp-layout-color3: #383838;\n",
       "                }\n",
       "                \n",
       "                .geemap-colab {\n",
       "                    background-color: var(--colab-primary-surface-color, white);\n",
       "                }\n",
       "                    \n",
       "                .geemap-colab .jupyter-button {\n",
       "                    --jp-layout-color3: var(--colab-primary-surface-color, white);\n",
       "                }\n",
       "            </style>\n",
       "            "
      ],
      "text/plain": [
       "<IPython.core.display.HTML object>"
      ]
     },
     "metadata": {},
     "output_type": "display_data"
    }
   ],
   "source": [
    "# if too big go via drive\n",
    "geemap.ee_export_image_to_drive(u, description='Yangtze_ur', region=Yangtze.geometry(), scale=30)"
   ]
  },
  {
   "cell_type": "markdown",
   "id": "ab852073",
   "metadata": {},
   "source": [
    "# Quality maps"
   ]
  },
  {
   "cell_type": "code",
   "execution_count": 3,
   "id": "664ad130",
   "metadata": {},
   "outputs": [],
   "source": [
    "# required functions\n",
    "def getRegion(site):\n",
    "    bounding_box = site.geometry().bounds().coordinates().getInfo()\n",
    "\n",
    "    # Extract the coordinates.\n",
    "    min_lon = bounding_box[0][0][0]\n",
    "    min_lat = bounding_box[0][0][1]\n",
    "    max_lon = bounding_box[0][2][0]\n",
    "    max_lat = bounding_box[0][2][1]\n",
    "    region = [min_lon-0.01, min_lat-0.01, max_lon+0.01, max_lat+0.01]\n",
    "    print(region)\n",
    "    return region\n"
   ]
  },
  {
   "cell_type": "code",
   "execution_count": 21,
   "id": "728b6d25",
   "metadata": {},
   "outputs": [],
   "source": [
    "def printableMap(site, power, background, river):\n",
    "    polygon = ee.Image().byte().paint(site, 1, 2 ) \n",
    "    u = background.clip(site.geometry())\n",
    "    \n",
    "    river =  river.map(lambda feature: feature.intersection(site.geometry(), ee.ErrorMargin(1)))\n",
    "\n",
    "    vp = {'palette':'404040'}\n",
    "    rvp = {'palette':'0000FF'}\n",
    "    u = u.visualize(**vp)\n",
    "    image = u.blend(polygon)\n",
    "    image = image.blend(river.style('0000FF'))\n",
    "    \n",
    "    # powerplants\n",
    "    fuelColor={'Coal': 'e31a1c',# red\n",
    "              'Nuclear': 'FFFF00',# yellow\n",
    "               'Gas': 'bc80bd', #purple\n",
    "               'Oil': 'ff7f00',# orange\n",
    "               'Biomass':'229a00', # green\n",
    "               'Hydropower':'0565A6'} # blue\n",
    "    fuelList = ['Coal', 'Nuclear', 'Gas', 'Oil', 'Biomass', 'Hydropower']\n",
    "    colors = ['e31a1c', 'FFFF00','bc80bd','ff7f00','229a00','0565A6']\n",
    "    for f in fuelList:\n",
    "\n",
    "#         borderColor = 'ffffff'  # Border color (black in this case)\n",
    "#         borderSize = 7  # Size of the border\n",
    "\n",
    "#         # Create a secondary layer with larger points for border effect\n",
    "#         borderFil = power.filter(ee.Filter.eq('fuel1', f)).style(color=borderColor, pointSize=borderSize)\n",
    "#         image = image.blend(borderFil)\n",
    "        \n",
    "        fil = power.filter(ee.Filter.eq('fuel1', f)).style(color=fuelColor[f], pointSize=8)\n",
    "        image = image.blend(fil)\n",
    "        \n",
    "        \n",
    "    # get region to match site polygon\n",
    "    region = getRegion(site)\n",
    "    \n",
    "    # write figure\n",
    "    fig = plt.figure()\n",
    "    ax = plt.subplot()#projection=ccrs.PlateCarree())\n",
    "\n",
    "#     ax.add_legend(keys=fuelList, colors=fuelColor.values, position=\"bottomleft\")\n",
    "    \n",
    "#     legend\n",
    "    legend = []\n",
    "    for index, fuel in enumerate(fuelList):\n",
    "        item = Line2D(\n",
    "                        [],\n",
    "                        [],\n",
    "                        marker=\"o\",\n",
    "                        color='#' + colors[index],\n",
    "                        label=fuel,\n",
    "                        markerfacecolor='#' + colors[index],\n",
    "                        markersize=5,\n",
    "                        ls=\"\",\n",
    "                    )\n",
    "        legend.append(item)\n",
    "    \n",
    "    \n",
    "    \n",
    "    cee.add_legend(ax, legend_elements=legend)\n",
    "\n",
    "    cee.get_map(image, region=region)\n",
    "\n",
    "#     cee.add_north_arrow(ax, text='N', xy=(0.9, 0.4), arrow_length=0.1, text_color='black', arrow_color='black', fontsize=20, width=5, headwidth=15, ha='center', va='center')\n",
    "#     cee.add_scale_bar(ax, metric_distance=4, unit='km', at_x=(0.05, 0.5), at_y=(0.08, 0.11), max_stripes=5, ytick_label_margins=0.25, fontsize=8, font_weight='bold', rotation=0, zorder=999, paddings={'xmin': 0.05, 'xmax': 0.05, 'ymin': 1.5, 'ymax': 0.5}, bbox_kwargs={'facecolor': 'white', 'edgecolor': 'black', 'alpha': 0.5})\n",
    "    return fig\n",
    "\n",
    "\n",
    "    \n",
    "    "
   ]
  },
  {
   "cell_type": "code",
   "execution_count": 22,
   "id": "7ce6ffbe",
   "metadata": {},
   "outputs": [
    {
     "name": "stdout",
     "output_type": "stream",
     "text": [
      "[6.593366833291927, 5.740916030028969, 6.799284595600881, 6.6845786289102485]\n"
     ]
    },
    {
     "data": {
      "image/png": "[encoded data removed]",
      "text/plain": [
       "<Figure size 640x480 with 2 Axes>"
      ]
     },
     "metadata": {},
     "output_type": "display_data"
    }
   ],
   "source": [
    "fig = printableMap(Niger, pp, urban, river)\n",
    "show()"
   ]
  },
  {
   "cell_type": "code",
   "execution_count": 75,
   "id": "7e01fe66",
   "metadata": {},
   "outputs": [
    {
     "name": "stdout",
     "output_type": "stream",
     "text": [
      "[30.865591577679652, 26.846621652634234, 31.52960168068564, 27.44475743923566]\n"
     ]
    },
    {
     "data": {
      "image/png": "[encoded data removed]",
      "text/plain": [
       "<Figure size 640x480 with 2 Axes>"
      ]
     },
     "metadata": {},
     "output_type": "display_data"
    }
   ],
   "source": [
    "fig = printableMap(Nile, pp, urban, river)\n",
    "show()"
   ]
  },
  {
   "cell_type": "markdown",
   "id": "c9ba8048",
   "metadata": {},
   "source": [
    "# Test maps"
   ]
  },
  {
   "cell_type": "code",
   "execution_count": 41,
   "id": "a1be9e8a",
   "metadata": {},
   "outputs": [],
   "source": [
    "# fil = pp.filter(ee.Filter.eq('fuel1', 'Coal')).style(color='111111')\n",
    "# # styled_fil = fil.style(color='000000')\n",
    "\n",
    "\n",
    "# Map = geemap.Map()\n",
    "# Map.addLayer(fil)\n",
    "# Map"
   ]
  },
  {
   "cell_type": "code",
   "execution_count": null,
   "id": "abfafb79",
   "metadata": {},
   "outputs": [],
   "source": []
  },
  {
   "cell_type": "code",
   "execution_count": null,
   "id": "002a1b11",
   "metadata": {},
   "outputs": [],
   "source": []
  },
  {
   "cell_type": "code",
   "execution_count": null,
   "id": "7bfe6589",
   "metadata": {},
   "outputs": [],
   "source": []
  }
 ],
 "metadata": {
  "kernelspec": {
   "display_name": "Python 3 (ipykernel)",
   "language": "python",
   "name": "python3"
  },
  "language_info": {
   "codemirror_mode": {
    "name": "ipython",
    "version": 3
   },
   "file_extension": ".py",
   "mimetype": "text/x-python",
   "name": "python",
   "nbconvert_exporter": "python",
   "pygments_lexer": "ipython3",
   "version": "3.12.1"
  }
 },
 "nbformat": 4,
 "nbformat_minor": 5
}
